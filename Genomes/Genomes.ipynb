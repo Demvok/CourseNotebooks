{
 "cells": [
  {
   "cell_type": "code",
   "execution_count": 21,
   "metadata": {},
   "outputs": [
    {
     "data": {
      "text/html": [
       "<div>\n",
       "<style scoped>\n",
       "    .dataframe tbody tr th:only-of-type {\n",
       "        vertical-align: middle;\n",
       "    }\n",
       "\n",
       "    .dataframe tbody tr th {\n",
       "        vertical-align: top;\n",
       "    }\n",
       "\n",
       "    .dataframe thead th {\n",
       "        text-align: right;\n",
       "    }\n",
       "</style>\n",
       "<table border=\"1\" class=\"dataframe\">\n",
       "  <thead>\n",
       "    <tr style=\"text-align: right;\">\n",
       "      <th></th>\n",
       "      <th>species0</th>\n",
       "      <th>species1</th>\n",
       "      <th>species2</th>\n",
       "      <th>species3</th>\n",
       "      <th>species4</th>\n",
       "    </tr>\n",
       "  </thead>\n",
       "  <tbody>\n",
       "    <tr>\n",
       "      <th>0</th>\n",
       "      <td>0.536029</td>\n",
       "      <td>0.920292</td>\n",
       "      <td>0.679708</td>\n",
       "      <td>0.840606</td>\n",
       "      <td>0.430842</td>\n",
       "    </tr>\n",
       "    <tr>\n",
       "      <th>1</th>\n",
       "      <td>0.920292</td>\n",
       "      <td>0.862417</td>\n",
       "      <td>0.887593</td>\n",
       "      <td>0.769754</td>\n",
       "      <td>0.203214</td>\n",
       "    </tr>\n",
       "    <tr>\n",
       "      <th>2</th>\n",
       "      <td>0.679708</td>\n",
       "      <td>0.887593</td>\n",
       "      <td>0.595156</td>\n",
       "      <td>0.003435</td>\n",
       "      <td>0.096052</td>\n",
       "    </tr>\n",
       "    <tr>\n",
       "      <th>3</th>\n",
       "      <td>0.840606</td>\n",
       "      <td>0.769754</td>\n",
       "      <td>0.003435</td>\n",
       "      <td>0.458870</td>\n",
       "      <td>0.029251</td>\n",
       "    </tr>\n",
       "    <tr>\n",
       "      <th>4</th>\n",
       "      <td>0.430842</td>\n",
       "      <td>0.203214</td>\n",
       "      <td>0.096052</td>\n",
       "      <td>0.029251</td>\n",
       "      <td>0.642109</td>\n",
       "    </tr>\n",
       "  </tbody>\n",
       "</table>\n",
       "</div>"
      ],
      "text/plain": [
       "   species0  species1  species2  species3  species4\n",
       "0  0.536029  0.920292  0.679708  0.840606  0.430842\n",
       "1  0.920292  0.862417  0.887593  0.769754  0.203214\n",
       "2  0.679708  0.887593  0.595156  0.003435  0.096052\n",
       "3  0.840606  0.769754  0.003435  0.458870  0.029251\n",
       "4  0.430842  0.203214  0.096052  0.029251  0.642109"
      ]
     },
     "execution_count": 21,
     "metadata": {},
     "output_type": "execute_result"
    }
   ],
   "source": [
    "import pandas as pd\n",
    "import matplotlib as mpl\n",
    "import seaborn as sns\n",
    "%matplotlib inline\n",
    "root = pd.read_csv('genome_matrix.csv')\n",
    "root.iloc[:, 1:]"
   ]
  },
  {
   "cell_type": "code",
   "execution_count": 22,
   "metadata": {},
   "outputs": [
    {
     "data": {
      "text/plain": [
       "<Axes: >"
      ]
     },
     "execution_count": 22,
     "metadata": {},
     "output_type": "execute_result"
    },
    {
     "data": {
      "image/png": "[encoded data removed]",
      "text/plain": [
       "<Figure size 640x480 with 2 Axes>"
      ]
     },
     "metadata": {},
     "output_type": "display_data"
    }
   ],
   "source": [
    "g = sns.heatmap(root.iloc[:, 1:], cmap='viridis')\n",
    "g.xaxis.set_ticks_position('top')\n",
    "g.xaxis.set_tick_params(rotation=90)\n",
    "g"
   ]
  }
 ],
 "metadata": {
  "kernelspec": {
   "display_name": "Python 3.11.0 64-bit",
   "language": "python",
   "name": "python3"
  },
  "language_info": {
   "codemirror_mode": {
    "name": "ipython",
    "version": 3
   },
   "file_extension": ".py",
   "mimetype": "text/x-python",
   "name": "python",
   "nbconvert_exporter": "python",
   "pygments_lexer": "ipython3",
   "version": "3.11.0"
  },
  "orig_nbformat": 4,
  "vscode": {
   "interpreter": {
    "hash": "a21d0dd36e860ab5cd76301aa767da5618692faa15b0f3b408295e4616c1fb45"
   }
  }
 },
 "nbformat": 4,
 "nbformat_minor": 2
}
