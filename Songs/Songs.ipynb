{
 "cells": [
  {
   "cell_type": "code",
   "execution_count": 40,
   "metadata": {},
   "outputs": [],
   "source": [
    "import pandas as pd\n",
    "import numpy as np\n",
    "import matplotlib as mpl\n",
    "import matplotlib.pylab as ppl\n",
    "import seaborn as sns\n",
    "from sklearn import tree\n",
    "from sklearn.model_selection import train_test_split, cross_val_score\n",
    "from sklearn.metrics import precision_score, recall_score\n",
    "%matplotlib inline"
   ]
  },
  {
   "cell_type": "code",
   "execution_count": 2,
   "metadata": {},
   "outputs": [
    {
     "data": {
      "text/html": [
       "<div>\n",
       "<style scoped>\n",
       "    .dataframe tbody tr th:only-of-type {\n",
       "        vertical-align: middle;\n",
       "    }\n",
       "\n",
       "    .dataframe tbody tr th {\n",
       "        vertical-align: top;\n",
       "    }\n",
       "\n",
       "    .dataframe thead th {\n",
       "        text-align: right;\n",
       "    }\n",
       "</style>\n",
       "<table border=\"1\" class=\"dataframe\">\n",
       "  <thead>\n",
       "    <tr style=\"text-align: right;\">\n",
       "      <th></th>\n",
       "      <th>song</th>\n",
       "      <th>year</th>\n",
       "      <th>artist</th>\n",
       "      <th>genre</th>\n",
       "      <th>lyrics</th>\n",
       "      <th>length</th>\n",
       "      <th>commas</th>\n",
       "      <th>exclamations</th>\n",
       "      <th>colons</th>\n",
       "      <th>hyphens</th>\n",
       "    </tr>\n",
       "  </thead>\n",
       "  <tbody>\n",
       "    <tr>\n",
       "      <th>0</th>\n",
       "      <td>the-ownerz</td>\n",
       "      <td>2007</td>\n",
       "      <td>gangstarr</td>\n",
       "      <td>Hip-Hop</td>\n",
       "      <td>\"One-two..\"\\n\"One-two, shots to the chin.. kno...</td>\n",
       "      <td>1300</td>\n",
       "      <td>24</td>\n",
       "      <td>5</td>\n",
       "      <td>0</td>\n",
       "      <td>11</td>\n",
       "    </tr>\n",
       "    <tr>\n",
       "      <th>1</th>\n",
       "      <td>dead-sound-of-misery</td>\n",
       "      <td>2006</td>\n",
       "      <td>blind-guardian</td>\n",
       "      <td>Metal</td>\n",
       "      <td>It's dark\\nLet's do it now\\nBring in the siren...</td>\n",
       "      <td>1566</td>\n",
       "      <td>0</td>\n",
       "      <td>0</td>\n",
       "      <td>0</td>\n",
       "      <td>0</td>\n",
       "    </tr>\n",
       "    <tr>\n",
       "      <th>2</th>\n",
       "      <td>modred-s-song</td>\n",
       "      <td>2006</td>\n",
       "      <td>blind-guardian</td>\n",
       "      <td>Metal</td>\n",
       "      <td>I've lost my battle before it starts\\nmy first...</td>\n",
       "      <td>996</td>\n",
       "      <td>1</td>\n",
       "      <td>0</td>\n",
       "      <td>1</td>\n",
       "      <td>0</td>\n",
       "    </tr>\n",
       "    <tr>\n",
       "      <th>3</th>\n",
       "      <td>the-ninth-wave</td>\n",
       "      <td>2015</td>\n",
       "      <td>blind-guardian</td>\n",
       "      <td>Metal</td>\n",
       "      <td>As dark night embraces\\nWe are the nation\\nI w...</td>\n",
       "      <td>2868</td>\n",
       "      <td>5</td>\n",
       "      <td>0</td>\n",
       "      <td>0</td>\n",
       "      <td>0</td>\n",
       "    </tr>\n",
       "    <tr>\n",
       "      <th>4</th>\n",
       "      <td>skills</td>\n",
       "      <td>2014</td>\n",
       "      <td>gangstarr</td>\n",
       "      <td>Hip-Hop</td>\n",
       "      <td>Skills, skills, skills\\n\"My Microphone\"\\n\"It's...</td>\n",
       "      <td>3351</td>\n",
       "      <td>22</td>\n",
       "      <td>0</td>\n",
       "      <td>0</td>\n",
       "      <td>3</td>\n",
       "    </tr>\n",
       "    <tr>\n",
       "      <th>...</th>\n",
       "      <td>...</td>\n",
       "      <td>...</td>\n",
       "      <td>...</td>\n",
       "      <td>...</td>\n",
       "      <td>...</td>\n",
       "      <td>...</td>\n",
       "      <td>...</td>\n",
       "      <td>...</td>\n",
       "      <td>...</td>\n",
       "      <td>...</td>\n",
       "    </tr>\n",
       "    <tr>\n",
       "      <th>355</th>\n",
       "      <td>just-like-that</td>\n",
       "      <td>2006</td>\n",
       "      <td>abba</td>\n",
       "      <td>Pop</td>\n",
       "      <td>Until that day\\nMy life had been a river\\nFoll...</td>\n",
       "      <td>972</td>\n",
       "      <td>2</td>\n",
       "      <td>0</td>\n",
       "      <td>0</td>\n",
       "      <td>1</td>\n",
       "    </tr>\n",
       "    <tr>\n",
       "      <th>356</th>\n",
       "      <td>ring-ring</td>\n",
       "      <td>1995</td>\n",
       "      <td>abba</td>\n",
       "      <td>Pop</td>\n",
       "      <td>I was sitting by the phone\\nI was waiting all ...</td>\n",
       "      <td>1283</td>\n",
       "      <td>33</td>\n",
       "      <td>0</td>\n",
       "      <td>0</td>\n",
       "      <td>3</td>\n",
       "    </tr>\n",
       "    <tr>\n",
       "      <th>357</th>\n",
       "      <td>reina-danzante</td>\n",
       "      <td>1981</td>\n",
       "      <td>abba</td>\n",
       "      <td>Pop</td>\n",
       "      <td>You can dance\\nYou can jive\\nHaving the time o...</td>\n",
       "      <td>810</td>\n",
       "      <td>1</td>\n",
       "      <td>0</td>\n",
       "      <td>0</td>\n",
       "      <td>0</td>\n",
       "    </tr>\n",
       "    <tr>\n",
       "      <th>358</th>\n",
       "      <td>code-of-the-streets</td>\n",
       "      <td>2006</td>\n",
       "      <td>gangstarr</td>\n",
       "      <td>Hip-Hop</td>\n",
       "      <td>Take this for example young brothers want rep\\...</td>\n",
       "      <td>1996</td>\n",
       "      <td>34</td>\n",
       "      <td>0</td>\n",
       "      <td>0</td>\n",
       "      <td>5</td>\n",
       "    </tr>\n",
       "    <tr>\n",
       "      <th>359</th>\n",
       "      <td>one-of-us</td>\n",
       "      <td>2001</td>\n",
       "      <td>abba</td>\n",
       "      <td>Pop</td>\n",
       "      <td>They passed me by, all of those great romances...</td>\n",
       "      <td>991</td>\n",
       "      <td>8</td>\n",
       "      <td>0</td>\n",
       "      <td>0</td>\n",
       "      <td>0</td>\n",
       "    </tr>\n",
       "  </tbody>\n",
       "</table>\n",
       "<p>360 rows × 10 columns</p>\n",
       "</div>"
      ],
      "text/plain": [
       "                     song  year          artist    genre  \\\n",
       "0              the-ownerz  2007       gangstarr  Hip-Hop   \n",
       "1    dead-sound-of-misery  2006  blind-guardian    Metal   \n",
       "2           modred-s-song  2006  blind-guardian    Metal   \n",
       "3          the-ninth-wave  2015  blind-guardian    Metal   \n",
       "4                  skills  2014       gangstarr  Hip-Hop   \n",
       "..                    ...   ...             ...      ...   \n",
       "355        just-like-that  2006            abba      Pop   \n",
       "356             ring-ring  1995            abba      Pop   \n",
       "357        reina-danzante  1981            abba      Pop   \n",
       "358   code-of-the-streets  2006       gangstarr  Hip-Hop   \n",
       "359             one-of-us  2001            abba      Pop   \n",
       "\n",
       "                                                lyrics  length  commas  \\\n",
       "0    \"One-two..\"\\n\"One-two, shots to the chin.. kno...    1300      24   \n",
       "1    It's dark\\nLet's do it now\\nBring in the siren...    1566       0   \n",
       "2    I've lost my battle before it starts\\nmy first...     996       1   \n",
       "3    As dark night embraces\\nWe are the nation\\nI w...    2868       5   \n",
       "4    Skills, skills, skills\\n\"My Microphone\"\\n\"It's...    3351      22   \n",
       "..                                                 ...     ...     ...   \n",
       "355  Until that day\\nMy life had been a river\\nFoll...     972       2   \n",
       "356  I was sitting by the phone\\nI was waiting all ...    1283      33   \n",
       "357  You can dance\\nYou can jive\\nHaving the time o...     810       1   \n",
       "358  Take this for example young brothers want rep\\...    1996      34   \n",
       "359  They passed me by, all of those great romances...     991       8   \n",
       "\n",
       "     exclamations  colons  hyphens  \n",
       "0               5       0       11  \n",
       "1               0       0        0  \n",
       "2               0       1        0  \n",
       "3               0       0        0  \n",
       "4               0       0        3  \n",
       "..            ...     ...      ...  \n",
       "355             0       0        1  \n",
       "356             0       0        3  \n",
       "357             0       0        0  \n",
       "358             0       0        5  \n",
       "359             0       0        0  \n",
       "\n",
       "[360 rows x 10 columns]"
      ]
     },
     "execution_count": 2,
     "metadata": {},
     "output_type": "execute_result"
    }
   ],
   "source": [
    "data = pd.read_csv('songs.csv')\n",
    "data"
   ]
  },
  {
   "cell_type": "code",
   "execution_count": 6,
   "metadata": {},
   "outputs": [],
   "source": [
    "X_train, X_test, y_train, y_test = train_test_split(data.loc[:, ['length', 'commas', 'exclamations', 'colons', 'hyphens']], data.artist, test_size=0.33, random_state=42)"
   ]
  },
  {
   "cell_type": "code",
   "execution_count": 36,
   "metadata": {},
   "outputs": [
    {
     "name": "stderr",
     "output_type": "stream",
     "text": [
      "C:\\Users\\Ivan Demkov\\AppData\\Local\\Temp\\ipykernel_14968\\3967366423.py:2: FutureWarning: The default dtype for empty Series will be 'object' instead of 'float64' in a future version. Specify a dtype explicitly to silence this warning.\n",
      "  results = pd.Series(index=list(ranging))\n"
     ]
    }
   ],
   "source": [
    "ranging = range(0, 43)\n",
    "results = pd.Series(index=list(ranging))\n",
    "\n",
    "for i in ranging:\n",
    "    choser = tree.DecisionTreeClassifier(criterion='entropy', max_depth=16, random_state=20)\n",
    "    choser.fit(X=X_train, y=y_train)\n",
    "    results.loc[i] = cross_val_score(choser, X_test, y_test, cv=5).mean()"
   ]
  },
  {
   "cell_type": "code",
   "execution_count": 37,
   "metadata": {},
   "outputs": [
    {
     "data": {
      "text/plain": [
       "<Axes: >"
      ]
     },
     "execution_count": 37,
     "metadata": {},
     "output_type": "execute_result"
    },
    {
     "data": {
      "image/png": "[encoded data removed]",
      "text/plain": [
       "<Figure size 640x480 with 1 Axes>"
      ]
     },
     "metadata": {},
     "output_type": "display_data"
    }
   ],
   "source": [
    "sns.lineplot(results, x=ranging, y=results)"
   ]
  },
  {
   "cell_type": "code",
   "execution_count": 38,
   "metadata": {},
   "outputs": [
    {
     "data": {
      "text/plain": [
       "20"
      ]
     },
     "execution_count": 38,
     "metadata": {},
     "output_type": "execute_result"
    }
   ],
   "source": [
    "results.idxmax()"
   ]
  },
  {
   "cell_type": "code",
   "execution_count": 39,
   "metadata": {},
   "outputs": [
    {
     "data": {
      "text/plain": [
       "0.6561594202898551"
      ]
     },
     "execution_count": 39,
     "metadata": {},
     "output_type": "execute_result"
    }
   ],
   "source": [
    "choser = tree.DecisionTreeClassifier(criterion='entropy', max_depth=16, random_state=20)\n",
    "choser.fit(X=X_train, y=y_train)\n",
    "cross_val_score(choser, X_test, y_test, cv=5).mean()"
   ]
  },
  {
   "cell_type": "code",
   "execution_count": 43,
   "metadata": {},
   "outputs": [
    {
     "data": {
      "text/plain": [
       "0.6890756302521008"
      ]
     },
     "execution_count": 43,
     "metadata": {},
     "output_type": "execute_result"
    }
   ],
   "source": [
    "precision_score(y_test, choser.predict(X_test), average='micro')"
   ]
  },
  {
   "cell_type": "code",
   "execution_count": 44,
   "metadata": {},
   "outputs": [
    {
     "data": {
      "text/plain": [
       "0.6890756302521008"
      ]
     },
     "execution_count": 44,
     "metadata": {},
     "output_type": "execute_result"
    }
   ],
   "source": [
    "recall_score(y_test, choser.predict(X_test), average='micro')"
   ]
  }
 ],
 "metadata": {
  "kernelspec": {
   "display_name": "Python 3.11.0 64-bit",
   "language": "python",
   "name": "python3"
  },
  "language_info": {
   "codemirror_mode": {
    "name": "ipython",
    "version": 3
   },
   "file_extension": ".py",
   "mimetype": "text/x-python",
   "name": "python",
   "nbconvert_exporter": "python",
   "pygments_lexer": "ipython3",
   "version": "3.11.0"
  },
  "orig_nbformat": 4,
  "vscode": {
   "interpreter": {
    "hash": "a21d0dd36e860ab5cd76301aa767da5618692faa15b0f3b408295e4616c1fb45"
   }
  }
 },
 "nbformat": 4,
 "nbformat_minor": 2
}
